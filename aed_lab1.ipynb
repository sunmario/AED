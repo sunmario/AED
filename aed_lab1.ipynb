{
  "nbformat": 4,
  "nbformat_minor": 0,
  "metadata": {
    "accelerator": "TPU",
    "colab": {
      "name": "aed_lab1.ipynb",
      "provenance": [],
      "collapsed_sections": []
    },
    "kernelspec": {
      "display_name": "Python 3",
      "name": "python3"
    },
    "language_info": {
      "name": "python"
    }
  },
  "cells": [
    {
      "cell_type": "code",
      "metadata": {
        "colab": {
          "base_uri": "https://localhost:8080/"
        },
        "id": "rA6EhbA_dzWg",
        "outputId": "935a85b5-79e9-4ec7-802c-bc9d0f2a34be"
      },
      "source": [
        "\n",
        "from google.colab import drive\n",
        "#drive.mount('/content/drive')\n",
        "import io\n",
        "import zipfile\n",
        "import pandas as pd\n",
        "from sklearn.model_selection import train_test_split\n",
        "from sklearn import metrics\n",
        "from sklearn.model_selection import GridSearchCV\n",
        "from sklearn.naive_bayes import GaussianNB\n",
        "import librosa\n",
        "import numpy as np\n",
        "from scipy.io import wavfile\n",
        "import pickle\n",
        "\n",
        "\n",
        "set_size = 4000\n",
        "\n",
        "dataset = zipfile.ZipFile('/content/drive/MyDrive/Colab Notebooks/audio_train.zip')\n",
        "datalabels = pd.read_csv(\"/content/drive/MyDrive/Colab Notebooks/train.csv\")\n",
        "filelist = dataset.namelist()\n",
        "file10 = filelist[1:]\n",
        "\n",
        "\n",
        "\n",
        "\n",
        "def read_from_zip(zip_store, filename):\n",
        "    with io.BytesIO() as bytes_buff:\n",
        "        bytes_data = zip_store.read(filename)\n",
        "        bytes_buff.write(bytes_data)\n",
        "        bytes_buff.seek(0)\n",
        "        sr, wave = wavfile.read(bytes_buff)\n",
        "    return sr, wave\n",
        "\n",
        "\n",
        "m = int(np.max([len(read_from_zip(dataset, file10[i])[1]) for i in range(len(file10))]))\n",
        "print(m)\n",
        "#попробовать повторениями дополнить"
      ],
      "execution_count": null,
      "outputs": [
        {
          "output_type": "stream",
          "text": [
            "480000\n"
          ],
          "name": "stdout"
        }
      ]
    },
    {
      "cell_type": "code",
      "metadata": {
        "colab": {
          "base_uri": "https://localhost:8080/",
          "height": 203
        },
        "id": "TCmUBXSBorJd",
        "outputId": "54ea9835-a80c-4fbd-88ff-0a493c3174b4"
      },
      "source": [
        "\n",
        "#print(datalabels[\"label\"].value_counts())\n",
        "\n",
        "left_columns = []\n",
        "\n",
        "for i in datalabels[\"label\"].unique():\n",
        "  if len(datalabels[datalabels[\"label\"] == i]) > 180:\n",
        "    left_columns.append(i)\n",
        "\n",
        "#print(left_columns)\n",
        "\n",
        "less_data = datalabels.loc[datalabels[\"label\"].isin(left_columns)]\n",
        "#3102 \n",
        "less_data.head()"
      ],
      "execution_count": null,
      "outputs": [
        {
          "output_type": "execute_result",
          "data": {
            "text/html": [
              "<div>\n",
              "<style scoped>\n",
              "    .dataframe tbody tr th:only-of-type {\n",
              "        vertical-align: middle;\n",
              "    }\n",
              "\n",
              "    .dataframe tbody tr th {\n",
              "        vertical-align: top;\n",
              "    }\n",
              "\n",
              "    .dataframe thead th {\n",
              "        text-align: right;\n",
              "    }\n",
              "</style>\n",
              "<table border=\"1\" class=\"dataframe\">\n",
              "  <thead>\n",
              "    <tr style=\"text-align: right;\">\n",
              "      <th></th>\n",
              "      <th>fname</th>\n",
              "      <th>label</th>\n",
              "    </tr>\n",
              "  </thead>\n",
              "  <tbody>\n",
              "    <tr>\n",
              "      <th>5</th>\n",
              "      <td>2d2900e792da5d4f6ab2.wav</td>\n",
              "      <td>Trumpet</td>\n",
              "    </tr>\n",
              "    <tr>\n",
              "      <th>11</th>\n",
              "      <td>a0ba703211ad22d66788.wav</td>\n",
              "      <td>Applause</td>\n",
              "    </tr>\n",
              "    <tr>\n",
              "      <th>12</th>\n",
              "      <td>e36e70d42b9ec2dfc283.wav</td>\n",
              "      <td>Shatter</td>\n",
              "    </tr>\n",
              "    <tr>\n",
              "      <th>16</th>\n",
              "      <td>fd9a8ca19d270e28dae8.wav</td>\n",
              "      <td>Bass_drum</td>\n",
              "    </tr>\n",
              "    <tr>\n",
              "      <th>19</th>\n",
              "      <td>9d51b14bd8d26f9475b9.wav</td>\n",
              "      <td>Bass_drum</td>\n",
              "    </tr>\n",
              "  </tbody>\n",
              "</table>\n",
              "</div>"
            ],
            "text/plain": [
              "                       fname      label\n",
              "5   2d2900e792da5d4f6ab2.wav    Trumpet\n",
              "11  a0ba703211ad22d66788.wav   Applause\n",
              "12  e36e70d42b9ec2dfc283.wav    Shatter\n",
              "16  fd9a8ca19d270e28dae8.wav  Bass_drum\n",
              "19  9d51b14bd8d26f9475b9.wav  Bass_drum"
            ]
          },
          "metadata": {
            "tags": []
          },
          "execution_count": 4
        }
      ]
    },
    {
      "cell_type": "code",
      "metadata": {
        "id": "y7wTmIhYgqUl"
      },
      "source": [
        "mels = []\n",
        "labels = less_data[\"label\"].to_numpy()\n",
        "for i in less_data.iterrows():\n",
        "  fname = \"train/\"+i[1][\"fname\"]\n",
        "  sr, wave = read_from_zip(dataset, fname)\n",
        "  if len(wave) < m:\n",
        "    rep = m // len(wave)\n",
        "    add = m % len(wave)\n",
        "    wave = np.ravel(np.concatenate((np.ravel(np.tile(wave, (rep, 1))),wave[:add])))\n",
        "  mel = np.ravel(librosa.feature.melspectrogram(y=wave,sr = sr))\n",
        "  mels.append(mel)\n",
        "\n",
        "\n",
        "  \n",
        "f = open(\"train_mels.pickle\",\"wb\")\n",
        "pickle.dump(mels,f)\n",
        "f.close()\n",
        "\n",
        "f = open(\"train_labels.pickle\",\"wb\")\n",
        "pickle.dump(labels,f)\n",
        "f.close()\n",
        "\n",
        "\n",
        "#rewrite loop because it may have unnecessary work done"
      ],
      "execution_count": null,
      "outputs": []
    },
    {
      "cell_type": "code",
      "metadata": {
        "id": "mu7QqZYprG-t"
      },
      "source": [
        "X = mels\n",
        "Y = labels\n",
        "train_x,test_x,train_y,test_y = train_test_split(X,Y,test_size = 0.33)\n"
      ],
      "execution_count": null,
      "outputs": []
    },
    {
      "cell_type": "code",
      "metadata": {
        "colab": {
          "base_uri": "https://localhost:8080/"
        },
        "id": "nkP_MRscrp0I",
        "outputId": "26abdbed-0db0-4b06-f48d-19786de7d448"
      },
      "source": [
        "print(train_x.shape)\n",
        "print(train_y.shape)\n",
        "train_x"
      ],
      "execution_count": null,
      "outputs": [
        {
          "output_type": "stream",
          "text": [
            "(1131, 120064)\n",
            "(1131,)\n"
          ],
          "name": "stdout"
        },
        {
          "output_type": "execute_result",
          "data": {
            "text/plain": [
              "array([[5.32300638e-03, 3.56182723e-02, 5.08191339e-02, ...,\n",
              "        3.67466308e-06, 2.62923033e-06, 2.06820944e-06],\n",
              "       [2.57130539e-04, 1.10757549e-03, 1.82897813e-03, ...,\n",
              "        2.95788304e-06, 2.46216616e-06, 2.96184010e-06],\n",
              "       [3.08105386e-04, 2.98240489e-04, 3.05576036e-04, ...,\n",
              "        1.30852706e-05, 1.54943269e-05, 1.42022463e-05],\n",
              "       ...,\n",
              "       [3.54225564e+00, 4.56530822e+00, 1.56092203e+00, ...,\n",
              "        1.42152810e-06, 1.80009906e-06, 2.22559408e-06],\n",
              "       [3.32987604e-04, 3.46781713e-04, 3.43996369e-04, ...,\n",
              "        2.56632663e-04, 2.25475732e-04, 1.57156218e-04],\n",
              "       [1.58050651e-03, 1.09680526e-02, 3.50184347e-02, ...,\n",
              "        3.05826028e-06, 2.91710374e-06, 2.22420323e-06]])"
            ]
          },
          "metadata": {
            "tags": []
          },
          "execution_count": 44
        }
      ]
    },
    {
      "cell_type": "code",
      "metadata": {
        "colab": {
          "background_save": true
        },
        "id": "v9ImuWJGrRdl",
        "outputId": "84568624-caed-4f0c-86ef-625211bbffcb"
      },
      "source": [
        "gaus_ = GaussianNB()\n",
        "params = {'var_smoothing': np.logspace(0,-9, num=100)}\n",
        "clf = GridSearchCV(gaus_, params)\n",
        "clf.fit(train_x, train_y)\n",
        "\n"
      ],
      "execution_count": null,
      "outputs": [
        {
          "output_type": "execute_result",
          "data": {
            "text/plain": [
              "GridSearchCV(cv=None, error_score=nan,\n",
              "             estimator=GaussianNB(priors=None, var_smoothing=1e-09),\n",
              "             iid='deprecated', n_jobs=None,\n",
              "             param_grid={'var_smoothing': array([1.00000000e+00, 8.11130831e-01, 6.57933225e-01, 5.33669923e-01,\n",
              "       4.32876128e-01, 3.51119173e-01, 2.84803587e-01, 2.31012970e-01,\n",
              "       1.87381742e-01, 1.51991108e-01, 1.23284674e-01, 1.00000000e-01,\n",
              "       8.11130831e-02,...\n",
              "       5.33669923e-08, 4.32876128e-08, 3.51119173e-08, 2.84803587e-08,\n",
              "       2.31012970e-08, 1.87381742e-08, 1.51991108e-08, 1.23284674e-08,\n",
              "       1.00000000e-08, 8.11130831e-09, 6.57933225e-09, 5.33669923e-09,\n",
              "       4.32876128e-09, 3.51119173e-09, 2.84803587e-09, 2.31012970e-09,\n",
              "       1.87381742e-09, 1.51991108e-09, 1.23284674e-09, 1.00000000e-09])},\n",
              "             pre_dispatch='2*n_jobs', refit=True, return_train_score=False,\n",
              "             scoring=None, verbose=0)"
            ]
          },
          "metadata": {
            "tags": []
          },
          "execution_count": 0
        }
      ]
    },
    {
      "cell_type": "code",
      "metadata": {
        "id": "kQv2TOZnLSML",
        "colab": {
          "base_uri": "https://localhost:8080/",
          "height": 447
        },
        "outputId": "2088ced1-6f0b-4744-900e-0945506b7691"
      },
      "source": [
        "from sklearn.metrics import accuracy_score\n",
        "results_df = pd.DataFrame(clf.cv_results_)\n",
        "results_df = results_df.sort_values(by=['rank_test_score'])\n",
        "results_df = (results_df .set_index(results_df[\"params\"].apply(lambda x: \"_\".join(str(val) for val in x.values()))).rename_axis('var_smoothing'))\n",
        "#results_df[['params', 'rank_test_score', 'mean_test_score', 'std_test_score']]\n",
        "acc= [0 for i in range(100)]\n",
        "expected = test_y\n",
        "for i in range(len(results_df)):\n",
        "  gaus_ = GaussianNB(var_smoothing = results_df[\"params\"][i][\"var_smoothing\"])\n",
        "  gaus_.fit(train_x, train_y)\n",
        "  predicted = gaus_.predict(test_x)\n",
        "  acc[i] = accuracy_score(expected, predicted)\n",
        "\n",
        "results_df['accuracy'] = acc\n",
        "results_df[[\"params\",\"accuracy\"]]"
      ],
      "execution_count": null,
      "outputs": [
        {
          "output_type": "execute_result",
          "data": {
            "text/html": [
              "<div>\n",
              "<style scoped>\n",
              "    .dataframe tbody tr th:only-of-type {\n",
              "        vertical-align: middle;\n",
              "    }\n",
              "\n",
              "    .dataframe tbody tr th {\n",
              "        vertical-align: top;\n",
              "    }\n",
              "\n",
              "    .dataframe thead th {\n",
              "        text-align: right;\n",
              "    }\n",
              "</style>\n",
              "<table border=\"1\" class=\"dataframe\">\n",
              "  <thead>\n",
              "    <tr style=\"text-align: right;\">\n",
              "      <th></th>\n",
              "      <th>params</th>\n",
              "      <th>accuracy</th>\n",
              "    </tr>\n",
              "    <tr>\n",
              "      <th>var_smoothing</th>\n",
              "      <th></th>\n",
              "      <th></th>\n",
              "    </tr>\n",
              "  </thead>\n",
              "  <tbody>\n",
              "    <tr>\n",
              "      <th>2.310129700083158e-09</th>\n",
              "      <td>{'var_smoothing': 2.310129700083158e-09}</td>\n",
              "      <td>0.390681</td>\n",
              "    </tr>\n",
              "    <tr>\n",
              "      <th>2.848035868435805e-09</th>\n",
              "      <td>{'var_smoothing': 2.848035868435805e-09}</td>\n",
              "      <td>0.390681</td>\n",
              "    </tr>\n",
              "    <tr>\n",
              "      <th>1.873817422860387e-09</th>\n",
              "      <td>{'var_smoothing': 1.873817422860387e-09}</td>\n",
              "      <td>0.390681</td>\n",
              "    </tr>\n",
              "    <tr>\n",
              "      <th>1e-09</th>\n",
              "      <td>{'var_smoothing': 1e-09}</td>\n",
              "      <td>0.399642</td>\n",
              "    </tr>\n",
              "    <tr>\n",
              "      <th>1.2328467394420635e-09</th>\n",
              "      <td>{'var_smoothing': 1.2328467394420635e-09}</td>\n",
              "      <td>0.397849</td>\n",
              "    </tr>\n",
              "    <tr>\n",
              "      <th>...</th>\n",
              "      <td>...</td>\n",
              "      <td>...</td>\n",
              "    </tr>\n",
              "    <tr>\n",
              "      <th>0.43287612810830584</th>\n",
              "      <td>{'var_smoothing': 0.43287612810830584}</td>\n",
              "      <td>0.154122</td>\n",
              "    </tr>\n",
              "    <tr>\n",
              "      <th>0.533669923120631</th>\n",
              "      <td>{'var_smoothing': 0.533669923120631}</td>\n",
              "      <td>0.145161</td>\n",
              "    </tr>\n",
              "    <tr>\n",
              "      <th>0.657933224657568</th>\n",
              "      <td>{'var_smoothing': 0.657933224657568}</td>\n",
              "      <td>0.141577</td>\n",
              "    </tr>\n",
              "    <tr>\n",
              "      <th>0.8111308307896871</th>\n",
              "      <td>{'var_smoothing': 0.8111308307896871}</td>\n",
              "      <td>0.141577</td>\n",
              "    </tr>\n",
              "    <tr>\n",
              "      <th>1.0</th>\n",
              "      <td>{'var_smoothing': 1.0}</td>\n",
              "      <td>0.141577</td>\n",
              "    </tr>\n",
              "  </tbody>\n",
              "</table>\n",
              "<p>100 rows × 2 columns</p>\n",
              "</div>"
            ],
            "text/plain": [
              "                                                           params  accuracy\n",
              "var_smoothing                                                              \n",
              "2.310129700083158e-09    {'var_smoothing': 2.310129700083158e-09}  0.390681\n",
              "2.848035868435805e-09    {'var_smoothing': 2.848035868435805e-09}  0.390681\n",
              "1.873817422860387e-09    {'var_smoothing': 1.873817422860387e-09}  0.390681\n",
              "1e-09                                    {'var_smoothing': 1e-09}  0.399642\n",
              "1.2328467394420635e-09  {'var_smoothing': 1.2328467394420635e-09}  0.397849\n",
              "...                                                           ...       ...\n",
              "0.43287612810830584        {'var_smoothing': 0.43287612810830584}  0.154122\n",
              "0.533669923120631            {'var_smoothing': 0.533669923120631}  0.145161\n",
              "0.657933224657568            {'var_smoothing': 0.657933224657568}  0.141577\n",
              "0.8111308307896871          {'var_smoothing': 0.8111308307896871}  0.141577\n",
              "1.0                                        {'var_smoothing': 1.0}  0.141577\n",
              "\n",
              "[100 rows x 2 columns]"
            ]
          },
          "metadata": {
            "tags": []
          },
          "execution_count": 65
        }
      ]
    },
    {
      "cell_type": "code",
      "metadata": {
        "id": "moqAke4DKBC7",
        "colab": {
          "base_uri": "https://localhost:8080/"
        },
        "outputId": "e4529a06-6139-46f5-aabc-038b71d11a42"
      },
      "source": [
        " gaus_ = GaussianNB(var_smoothing = 2.310129700083158e-09)\n",
        "gaus_.fit(train_x, train_y)\n",
        "expected = test_y\n",
        "predicted = gaus_.predict(test_x)\n",
        "print(metrics.classification_report(expected, predicted))\n",
        "print(metrics.confusion_matrix(expected, predicted))"
      ],
      "execution_count": null,
      "outputs": [
        {
          "output_type": "stream",
          "text": [
            "                 precision    recall  f1-score   support\n",
            "\n",
            "Acoustic_guitar       0.44      0.17      0.24        66\n",
            "       Applause       0.46      0.38      0.41        64\n",
            "      Bass_drum       0.42      0.75      0.54        48\n",
            "          Cello       0.19      0.20      0.20        59\n",
            "    Double_bass       0.34      0.75      0.46        71\n",
            "           Fart       0.44      0.51      0.47        69\n",
            "          Flute       0.65      0.21      0.31        63\n",
            "        Shatter       0.57      0.39      0.46        59\n",
            "        Trumpet       0.30      0.19      0.23        59\n",
            "\n",
            "       accuracy                           0.39       558\n",
            "      macro avg       0.42      0.39      0.37       558\n",
            "   weighted avg       0.42      0.39      0.37       558\n",
            "\n",
            "[[11  0 12 11 19  9  2  0  2]\n",
            " [ 1 24  7 17  4  6  1  1  3]\n",
            " [ 0  0 36  0 11  0  0  1  0]\n",
            " [ 3  1  2 12 35  1  2  0  3]\n",
            " [ 4  0  6  2 53  2  1  2  1]\n",
            " [ 0  3 10  4  4 35  1  8  4]\n",
            " [ 5  8  8  7  7  2 13  0 13]\n",
            " [ 0  3  1  5  6 21  0 23  0]\n",
            " [ 1 13  3  5 18  3  0  5 11]]\n"
          ],
          "name": "stdout"
        }
      ]
    },
    {
      "cell_type": "code",
      "metadata": {
        "id": "6XY0ekingar0"
      },
      "source": [
        ""
      ],
      "execution_count": null,
      "outputs": []
    }
  ]
}